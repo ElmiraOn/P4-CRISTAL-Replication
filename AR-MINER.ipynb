{
 "nbformat": 4,
 "nbformat_minor": 0,
 "metadata": {
  "colab": {
   "name": "AR-MINER.ipynb",
   "provenance": [],
   "collapsed_sections": []
  },
  "kernelspec": {
   "name": "python3",
   "display_name": "Python 3"
  },
  "language_info": {
   "name": "python"
  }
 },
 "cells": [
  {
   "cell_type": "code",
   "execution_count": 1,
   "metadata": {
    "colab": {
     "base_uri": "https://localhost:8080/"
    },
    "id": "LK2xrW8S6Zax",
    "outputId": "8dd5073b-884d-4789-f0bc-dbcacc29ff5e",
    "executionInfo": {
     "status": "ok",
     "timestamp": 1648680711984,
     "user_tz": 480,
     "elapsed": 2996,
     "user": {
      "displayName": "Umme Ayman",
      "userId": "08825339167486042009"
     }
    },
    "pycharm": {
     "name": "#%%\n"
    }
   },
   "outputs": [
    {
     "name": "stderr",
     "output_type": "stream",
     "text": [
      "[nltk_data] Downloading package wordnet to /home/azalea/nltk_data...\n",
      "[nltk_data]   Package wordnet is already up-to-date!\n",
      "[nltk_data] Downloading package punkt to /home/azalea/nltk_data...\n",
      "[nltk_data]   Package punkt is already up-to-date!\n",
      "[nltk_data] Downloading package stopwords to /home/azalea/nltk_data...\n",
      "[nltk_data]   Package stopwords is already up-to-date!\n"
     ]
    },
    {
     "data": {
      "text/plain": "True"
     },
     "execution_count": 1,
     "metadata": {},
     "output_type": "execute_result"
    }
   ],
   "source": [
    "from __future__ import annotations\n",
    "\n",
    "import json\n",
    "import warnings\n",
    "\n",
    "import pandas as pd\n",
    "import nltk\n",
    "\n",
    "from nltk.stem.porter import *\n",
    "from sklearn.feature_extraction.text import TfidfVectorizer\n",
    "from sklearn.preprocessing import MultiLabelBinarizer\n",
    "\n",
    "# warnings.filterwarnings('ignore')\n",
    "nltk.download('wordnet')\n",
    "nltk.download('punkt')\n",
    "nltk.download('stopwords')"
   ]
  },
  {
   "cell_type": "markdown",
   "source": [
    "### Load Data"
   ],
   "metadata": {
    "collapsed": false,
    "pycharm": {
     "name": "#%% md\n"
    }
   }
  },
  {
   "cell_type": "code",
   "source": [
    "from ast import literal_eval\n",
    "\n",
    "def read_urr_data():\n",
    "    def get_labels(x):\n",
    "        if isinstance(x, list):\n",
    "            terms = [i['term'] for i in x]\n",
    "            if len(terms) > 2:\n",
    "                terms = terms[:2]\n",
    "            return terms\n",
    "\n",
    "    data = pd.read_csv('trainset_ar_miner.csv', encoding='ISO-8859-1')\n",
    "    data['Class'] = data['Class'].apply(literal_eval).apply(get_labels)\n",
    "    data['informative'] = data['Class'].apply(lambda x: 'Informative' in x)\n",
    "\n",
    "    return data\n",
    "\n",
    "data = read_urr_data()\n",
    "data.head()"
   ],
   "metadata": {
    "id": "oLGaQagx8E0U",
    "executionInfo": {
     "status": "ok",
     "timestamp": 1648680762318,
     "user_tz": 480,
     "elapsed": 237,
     "user": {
      "displayName": "Umme Ayman",
      "userId": "08825339167486042009"
     }
    },
    "pycharm": {
     "name": "#%%\n"
    }
   },
   "execution_count": 2,
   "outputs": [
    {
     "data": {
      "text/plain": "  appVersion                                        User Review      Date  \\\n0       2.06  Fundamental flaw Sometimes drops a 4 instead o...  15-01-16   \n1       2.06  Too easy and too slow Being able to undo just ...  18-01-16   \n2       2.06  Slow Since latest update, it's moving very slo...  15-02-16   \n3       2.06     love it.. good excercise before i go to work..  20-02-16   \n4       2.06  Keeps crashing Since I upgraded my android thi...  26-02-16   \n\n   Rating              Class  informative  \n0       4      [Informative]         True  \n1       2      [Informative]         True  \n2       4      [Informative]         True  \n3       5  [Non-informative]        False  \n4       1      [Informative]         True  ",
      "text/html": "<div>\n<style scoped>\n    .dataframe tbody tr th:only-of-type {\n        vertical-align: middle;\n    }\n\n    .dataframe tbody tr th {\n        vertical-align: top;\n    }\n\n    .dataframe thead th {\n        text-align: right;\n    }\n</style>\n<table border=\"1\" class=\"dataframe\">\n  <thead>\n    <tr style=\"text-align: right;\">\n      <th></th>\n      <th>appVersion</th>\n      <th>User Review</th>\n      <th>Date</th>\n      <th>Rating</th>\n      <th>Class</th>\n      <th>informative</th>\n    </tr>\n  </thead>\n  <tbody>\n    <tr>\n      <th>0</th>\n      <td>2.06</td>\n      <td>Fundamental flaw Sometimes drops a 4 instead o...</td>\n      <td>15-01-16</td>\n      <td>4</td>\n      <td>[Informative]</td>\n      <td>True</td>\n    </tr>\n    <tr>\n      <th>1</th>\n      <td>2.06</td>\n      <td>Too easy and too slow Being able to undo just ...</td>\n      <td>18-01-16</td>\n      <td>2</td>\n      <td>[Informative]</td>\n      <td>True</td>\n    </tr>\n    <tr>\n      <th>2</th>\n      <td>2.06</td>\n      <td>Slow Since latest update, it's moving very slo...</td>\n      <td>15-02-16</td>\n      <td>4</td>\n      <td>[Informative]</td>\n      <td>True</td>\n    </tr>\n    <tr>\n      <th>3</th>\n      <td>2.06</td>\n      <td>love it.. good excercise before i go to work..</td>\n      <td>20-02-16</td>\n      <td>5</td>\n      <td>[Non-informative]</td>\n      <td>False</td>\n    </tr>\n    <tr>\n      <th>4</th>\n      <td>2.06</td>\n      <td>Keeps crashing Since I upgraded my android thi...</td>\n      <td>26-02-16</td>\n      <td>1</td>\n      <td>[Informative]</td>\n      <td>True</td>\n    </tr>\n  </tbody>\n</table>\n</div>"
     },
     "execution_count": 2,
     "metadata": {},
     "output_type": "execute_result"
    }
   ]
  },
  {
   "cell_type": "code",
   "execution_count": 4,
   "outputs": [
    {
     "data": {
      "text/plain": "         app     platform                    pkg  \\\n0  Instagram  Google Play  com.instagram.android   \n1  Instagram  Google Play  com.instagram.android   \n2  Instagram  Google Play  com.instagram.android   \n3  Instagram  Google Play  com.instagram.android   \n4  Instagram  Google Play  com.instagram.android   \n\n                                                  id     lang  type  \\\n0  Z3A6QU9xcFRPRUNyR05RcVZVV2t2ZzR0eXNpNTB2QXkwdz...  English     2   \n1  Z3A6QU9xcFRPRzhuenVHSUpsNGU3YVI1U3h5RVFETjJ2Y0...  English     5   \n2  Z3A6QU9xcFRPR2c3UmI4VWFVWGhCMGI1VEowczQ3cGZtRF...  English     5   \n3  Z3A6QU9xcFRPRTltSjhyd09zYk5vaVNFMldURHQwUzNxbU...  English     1   \n4  Z3A6QU9xcFRPRmcwYjA3U1RBZl80MFV4WDFjX1JGeE1hWn...  English     4   \n\n        date             user          title  \\\n0 2016-08-05   Angie Martinez  New instagram   \n1 2016-08-05     Emad Jadalla        So nice   \n2 2016-08-05    Halie Godesky        Love it   \n3 2016-08-05  Tamera Campbell         Update   \n4 2016-08-05       adam haris       nice app   \n\n                                         User Review  informative  \n0  I hate the new instagram I don't see why gotta...         True  \n1                 I love it . So easy . Fabulous â™¥        False  \n2                                          Its great        False  \n3  Please get rid of \"stories\" the video quality ...         True  \n4                                               good        False  ",
      "text/html": "<div>\n<style scoped>\n    .dataframe tbody tr th:only-of-type {\n        vertical-align: middle;\n    }\n\n    .dataframe tbody tr th {\n        vertical-align: top;\n    }\n\n    .dataframe thead th {\n        text-align: right;\n    }\n</style>\n<table border=\"1\" class=\"dataframe\">\n  <thead>\n    <tr style=\"text-align: right;\">\n      <th></th>\n      <th>app</th>\n      <th>platform</th>\n      <th>pkg</th>\n      <th>id</th>\n      <th>lang</th>\n      <th>type</th>\n      <th>date</th>\n      <th>user</th>\n      <th>title</th>\n      <th>User Review</th>\n      <th>informative</th>\n    </tr>\n  </thead>\n  <tbody>\n    <tr>\n      <th>0</th>\n      <td>Instagram</td>\n      <td>Google Play</td>\n      <td>com.instagram.android</td>\n      <td>Z3A6QU9xcFRPRUNyR05RcVZVV2t2ZzR0eXNpNTB2QXkwdz...</td>\n      <td>English</td>\n      <td>2</td>\n      <td>2016-08-05</td>\n      <td>Angie Martinez</td>\n      <td>New instagram</td>\n      <td>I hate the new instagram I don't see why gotta...</td>\n      <td>True</td>\n    </tr>\n    <tr>\n      <th>1</th>\n      <td>Instagram</td>\n      <td>Google Play</td>\n      <td>com.instagram.android</td>\n      <td>Z3A6QU9xcFRPRzhuenVHSUpsNGU3YVI1U3h5RVFETjJ2Y0...</td>\n      <td>English</td>\n      <td>5</td>\n      <td>2016-08-05</td>\n      <td>Emad Jadalla</td>\n      <td>So nice</td>\n      <td>I love it . So easy . Fabulous â™¥</td>\n      <td>False</td>\n    </tr>\n    <tr>\n      <th>2</th>\n      <td>Instagram</td>\n      <td>Google Play</td>\n      <td>com.instagram.android</td>\n      <td>Z3A6QU9xcFRPR2c3UmI4VWFVWGhCMGI1VEowczQ3cGZtRF...</td>\n      <td>English</td>\n      <td>5</td>\n      <td>2016-08-05</td>\n      <td>Halie Godesky</td>\n      <td>Love it</td>\n      <td>Its great</td>\n      <td>False</td>\n    </tr>\n    <tr>\n      <th>3</th>\n      <td>Instagram</td>\n      <td>Google Play</td>\n      <td>com.instagram.android</td>\n      <td>Z3A6QU9xcFRPRTltSjhyd09zYk5vaVNFMldURHQwUzNxbU...</td>\n      <td>English</td>\n      <td>1</td>\n      <td>2016-08-05</td>\n      <td>Tamera Campbell</td>\n      <td>Update</td>\n      <td>Please get rid of \"stories\" the video quality ...</td>\n      <td>True</td>\n    </tr>\n    <tr>\n      <th>4</th>\n      <td>Instagram</td>\n      <td>Google Play</td>\n      <td>com.instagram.android</td>\n      <td>Z3A6QU9xcFRPRmcwYjA3U1RBZl80MFV4WDFjX1JGeE1hWn...</td>\n      <td>English</td>\n      <td>4</td>\n      <td>2016-08-05</td>\n      <td>adam haris</td>\n      <td>nice app</td>\n      <td>good</td>\n      <td>False</td>\n    </tr>\n  </tbody>\n</table>\n</div>"
     },
     "execution_count": 4,
     "metadata": {},
     "output_type": "execute_result"
    }
   ],
   "source": [
    "from pathlib import Path\n",
    "\n",
    "\n",
    "def read_type_data():\n",
    "    \"\"\"\n",
    "    Read data from the paper \"Bug Report, Feature Request, or Simply Praise?\" (Maalej & Nabil 2016)\n",
    "    \"\"\"\n",
    "    cols = ['app', 'platform', 'pkg', 'id', 'lang', 'blank', 'type', 'date', 'user', 'title', 'User Review']\n",
    "    data = pd.read_excel(Path('other_data/Informative_Training_Set.xlsx'), names=cols, header=None).drop('blank', axis=1)\n",
    "    data['informative'] = data['type'].apply(lambda x: x <= 2)\n",
    "    # data['Class'] = data['informative'].apply(lambda x: ['Informative'] if x else ['Non-informative'])\n",
    "    data['User Review'] = data['User Review'].apply(lambda x: str(x))\n",
    "    return data\n",
    "\n",
    "\n",
    "data = read_type_data()\n",
    "data.head()"
   ],
   "metadata": {
    "collapsed": false,
    "pycharm": {
     "name": "#%%\n"
    }
   }
  },
  {
   "cell_type": "code",
   "source": [
    "import re\n",
    "from nltk.corpus import stopwords\n",
    "\n",
    "\n",
    "stop_words = {w.lower() for w in stopwords.words('english')}\n",
    "\n",
    "\n",
    "# Data Cleaning\n",
    "def clean_text(text: str):\n",
    "    # remove everything except alphabets\n",
    "    text = re.sub(\"[^a-zA-Z]\", \" \", text.lower())\n",
    "\n",
    "    # remove stop words\n",
    "    text = ' '.join(w for w in text.split() if not w in stop_words)\n",
    "    \n",
    "    return text\n",
    "\n",
    "\n",
    "data['soup'] = data['User Review'].apply(clean_text)\n",
    "data.sample(10)"
   ],
   "metadata": {
    "id": "lY5GxRc48eqr",
    "executionInfo": {
     "status": "ok",
     "timestamp": 1648680767675,
     "user_tz": 480,
     "elapsed": 227,
     "user": {
      "displayName": "Umme Ayman",
      "userId": "08825339167486042009"
     }
    },
    "pycharm": {
     "name": "#%%\n"
    }
   },
   "execution_count": 5,
   "outputs": [
    {
     "data": {
      "text/plain": "                  app     platform                    pkg  \\\n4775           WeChat  Google Play         com.tencent.mm   \n2688    Spotify Music  Google Play      com.spotify.music   \n1934         Snapchat  Google Play   com.snapchat.android   \n628         Instagram  Google Play  com.instagram.android   \n1942         Snapchat  Google Play   com.snapchat.android   \n635         Instagram  Google Play  com.instagram.android   \n891         Instagram  Google Play  com.instagram.android   \n7906         LinkedIn  Google Play   com.linkedin.android   \n4224           WeChat  Google Play         com.tencent.mm   \n5302  VLC for Android  Google Play       org.videolan.vlc   \n\n                                                     id     lang  type  \\\n4775  Z3A6QU9xcFRPSGloNm1MRHU0UFQtRk5HUXJXSWpnUzhxMn...  English     5   \n2688  Z3A6QU9xcFRPRVBCT29TR0ZPMUU3bUFZYXZZV1h1SjZ0UX...  English     5   \n1934  Z3A6QU9xcFRPRVlFNGcyeThnWGhISWlEbmRNYXJTVDdYen...  English     5   \n628   Z3A6QU9xcFRPR2dSZVpielA2QWFFeEppUEQwQi1vUDU1RT...  English     5   \n1942  Z3A6QU9xcFRPR1B3OG9tVkxzYTA3TlE4QnlmQW9OXzN2M3...  English     4   \n635   Z3A6QU9xcFRPR2dndjZvb3Q2SkIxU213dV85Ny1KQ3Q4cT...  English     5   \n891   Z3A6QU9xcFRPRW5qU3ltXzJfcFhWU3ZpVzJVOWZkcE5xZW...  English     5   \n7906  Z3A6QU9xcFRPRTgzYzR1SnVHTGVLUC1GU0FQWmlBX1FDb1...  English     5   \n4224  Z3A6QU9xcFRPRUJMM3dDblREajJLUlRUNGZFcDJLRHYxSn...  English     5   \n5302  Z3A6QU9xcFRPR2pxaDZvREtobUUzRkR3dmZBNjRocm1Wa2...  English     4   \n\n           date                user          title  \\\n4775 2016-07-30  Manjula Jayasekara            NaN   \n2688 2016-08-04     Jason L. Cheung            NaN   \n1934 2016-08-04             M Newby  ALMOST GOT IT   \n628  2016-08-04     Muhammad Kabeir       Kay.....   \n1942 2016-08-04        Jose Barajas        Awesome   \n635  2016-08-04      Joshua Wheeler            NaN   \n891  2016-08-04          Qayom Lala      lovIng iT   \n7906 2016-07-21      vijeta hardeep            app   \n4224 2016-08-03          Keng Teong    Google good   \n5302 2016-08-05     PAULDIP AHEIBAM            NaN   \n\n                                            User Review  informative  \\\n4775                    Very good chatting application.        False   \n2688                                           Love it!        False   \n1934  I love the app and everything it does. Literal...        False   \n628                                      E dey sure die        False   \n1942                       Great for looking at stories        False   \n635                                             Awesome        False   \n891                                          sUpErb apP        False   \n7906                                          so nice .        False   \n4224                                  Faster to use app        False   \n5302                                               Good        False   \n\n                                                   soup  \n4775                          good chatting application  \n2688                                               love  \n1934  love app everything literally cant find compla...  \n628                                      e dey sure die  \n1942                              great looking stories  \n635                                             awesome  \n891                                          superb app  \n7906                                               nice  \n4224                                     faster use app  \n5302                                               good  ",
      "text/html": "<div>\n<style scoped>\n    .dataframe tbody tr th:only-of-type {\n        vertical-align: middle;\n    }\n\n    .dataframe tbody tr th {\n        vertical-align: top;\n    }\n\n    .dataframe thead th {\n        text-align: right;\n    }\n</style>\n<table border=\"1\" class=\"dataframe\">\n  <thead>\n    <tr style=\"text-align: right;\">\n      <th></th>\n      <th>app</th>\n      <th>platform</th>\n      <th>pkg</th>\n      <th>id</th>\n      <th>lang</th>\n      <th>type</th>\n      <th>date</th>\n      <th>user</th>\n      <th>title</th>\n      <th>User Review</th>\n      <th>informative</th>\n      <th>soup</th>\n    </tr>\n  </thead>\n  <tbody>\n    <tr>\n      <th>4775</th>\n      <td>WeChat</td>\n      <td>Google Play</td>\n      <td>com.tencent.mm</td>\n      <td>Z3A6QU9xcFRPSGloNm1MRHU0UFQtRk5HUXJXSWpnUzhxMn...</td>\n      <td>English</td>\n      <td>5</td>\n      <td>2016-07-30</td>\n      <td>Manjula Jayasekara</td>\n      <td>NaN</td>\n      <td>Very good chatting application.</td>\n      <td>False</td>\n      <td>good chatting application</td>\n    </tr>\n    <tr>\n      <th>2688</th>\n      <td>Spotify Music</td>\n      <td>Google Play</td>\n      <td>com.spotify.music</td>\n      <td>Z3A6QU9xcFRPRVBCT29TR0ZPMUU3bUFZYXZZV1h1SjZ0UX...</td>\n      <td>English</td>\n      <td>5</td>\n      <td>2016-08-04</td>\n      <td>Jason L. Cheung</td>\n      <td>NaN</td>\n      <td>Love it!</td>\n      <td>False</td>\n      <td>love</td>\n    </tr>\n    <tr>\n      <th>1934</th>\n      <td>Snapchat</td>\n      <td>Google Play</td>\n      <td>com.snapchat.android</td>\n      <td>Z3A6QU9xcFRPRVlFNGcyeThnWGhISWlEbmRNYXJTVDdYen...</td>\n      <td>English</td>\n      <td>5</td>\n      <td>2016-08-04</td>\n      <td>M Newby</td>\n      <td>ALMOST GOT IT</td>\n      <td>I love the app and everything it does. Literal...</td>\n      <td>False</td>\n      <td>love app everything literally cant find compla...</td>\n    </tr>\n    <tr>\n      <th>628</th>\n      <td>Instagram</td>\n      <td>Google Play</td>\n      <td>com.instagram.android</td>\n      <td>Z3A6QU9xcFRPR2dSZVpielA2QWFFeEppUEQwQi1vUDU1RT...</td>\n      <td>English</td>\n      <td>5</td>\n      <td>2016-08-04</td>\n      <td>Muhammad Kabeir</td>\n      <td>Kay.....</td>\n      <td>E dey sure die</td>\n      <td>False</td>\n      <td>e dey sure die</td>\n    </tr>\n    <tr>\n      <th>1942</th>\n      <td>Snapchat</td>\n      <td>Google Play</td>\n      <td>com.snapchat.android</td>\n      <td>Z3A6QU9xcFRPR1B3OG9tVkxzYTA3TlE4QnlmQW9OXzN2M3...</td>\n      <td>English</td>\n      <td>4</td>\n      <td>2016-08-04</td>\n      <td>Jose Barajas</td>\n      <td>Awesome</td>\n      <td>Great for looking at stories</td>\n      <td>False</td>\n      <td>great looking stories</td>\n    </tr>\n    <tr>\n      <th>635</th>\n      <td>Instagram</td>\n      <td>Google Play</td>\n      <td>com.instagram.android</td>\n      <td>Z3A6QU9xcFRPR2dndjZvb3Q2SkIxU213dV85Ny1KQ3Q4cT...</td>\n      <td>English</td>\n      <td>5</td>\n      <td>2016-08-04</td>\n      <td>Joshua Wheeler</td>\n      <td>NaN</td>\n      <td>Awesome</td>\n      <td>False</td>\n      <td>awesome</td>\n    </tr>\n    <tr>\n      <th>891</th>\n      <td>Instagram</td>\n      <td>Google Play</td>\n      <td>com.instagram.android</td>\n      <td>Z3A6QU9xcFRPRW5qU3ltXzJfcFhWU3ZpVzJVOWZkcE5xZW...</td>\n      <td>English</td>\n      <td>5</td>\n      <td>2016-08-04</td>\n      <td>Qayom Lala</td>\n      <td>lovIng iT</td>\n      <td>sUpErb apP</td>\n      <td>False</td>\n      <td>superb app</td>\n    </tr>\n    <tr>\n      <th>7906</th>\n      <td>LinkedIn</td>\n      <td>Google Play</td>\n      <td>com.linkedin.android</td>\n      <td>Z3A6QU9xcFRPRTgzYzR1SnVHTGVLUC1GU0FQWmlBX1FDb1...</td>\n      <td>English</td>\n      <td>5</td>\n      <td>2016-07-21</td>\n      <td>vijeta hardeep</td>\n      <td>app</td>\n      <td>so nice .</td>\n      <td>False</td>\n      <td>nice</td>\n    </tr>\n    <tr>\n      <th>4224</th>\n      <td>WeChat</td>\n      <td>Google Play</td>\n      <td>com.tencent.mm</td>\n      <td>Z3A6QU9xcFRPRUJMM3dDblREajJLUlRUNGZFcDJLRHYxSn...</td>\n      <td>English</td>\n      <td>5</td>\n      <td>2016-08-03</td>\n      <td>Keng Teong</td>\n      <td>Google good</td>\n      <td>Faster to use app</td>\n      <td>False</td>\n      <td>faster use app</td>\n    </tr>\n    <tr>\n      <th>5302</th>\n      <td>VLC for Android</td>\n      <td>Google Play</td>\n      <td>org.videolan.vlc</td>\n      <td>Z3A6QU9xcFRPR2pxaDZvREtobUUzRkR3dmZBNjRocm1Wa2...</td>\n      <td>English</td>\n      <td>4</td>\n      <td>2016-08-05</td>\n      <td>PAULDIP AHEIBAM</td>\n      <td>NaN</td>\n      <td>Good</td>\n      <td>False</td>\n      <td>good</td>\n    </tr>\n  </tbody>\n</table>\n</div>"
     },
     "execution_count": 5,
     "metadata": {},
     "output_type": "execute_result"
    }
   ]
  },
  {
   "cell_type": "code",
   "execution_count": 6,
   "outputs": [
    {
     "name": "stdout",
     "output_type": "stream",
     "text": [
      "The data has 17.8% informative reviews\n",
      "The data has 50.0% informative reviews after resample\n"
     ]
    }
   ],
   "source": [
    "def resample(data):\n",
    "    \"\"\"\n",
    "    Resample data so that it has similar numbers of 0 and 1s\n",
    "    \"\"\"\n",
    "    d1 = data[data.informative == True]\n",
    "    d0 = data[data.informative == False]\n",
    "    num_1s = len(d1)\n",
    "    num_0s = len(d0)\n",
    "    final = min(num_1s, num_0s)\n",
    "\n",
    "    return pd.concat([d1.sample(final), d0.sample(final)], ignore_index=True)\n",
    "\n",
    "\n",
    "print(f'The data has {sum(data[\"informative\"]) / len(data) * 100:.1f}% informative reviews')\n",
    "data = resample(data)\n",
    "print(f'The data has {sum(data[\"informative\"]) / len(data) * 100:.1f}% informative reviews after resample')"
   ],
   "metadata": {
    "collapsed": false,
    "pycharm": {
     "name": "#%%\n"
    }
   }
  },
  {
   "cell_type": "code",
   "source": [
    "stem_process = PorterStemmer()\n",
    "\n",
    "def tokenize_and_stem(text):\n",
    "    # tokenization to ensure that punctuation is caught as its own token\n",
    "    tokens = [word.lower() for sent in nltk.sent_tokenize(text) for word in nltk.word_tokenize(sent)]\n",
    "    filtered_tokens = []\n",
    "    \n",
    "    for token in tokens:\n",
    "        if re.search('[a-zA-Z]', token):\n",
    "            filtered_tokens.append(token)\n",
    "    lem = [stem_process.stem(t) for t in filtered_tokens]\n",
    "    return lem\n",
    "\n",
    "# Defining a TF-IDF Vectorizer\n",
    "tfidf_vec = TfidfVectorizer(ngram_range=(1, 2), tokenizer=tokenize_and_stem, max_features=10000, use_idf=True)"
   ],
   "metadata": {
    "id": "5K68ssXO9kGa",
    "executionInfo": {
     "status": "ok",
     "timestamp": 1648680787046,
     "user_tz": 480,
     "elapsed": 308,
     "user": {
      "displayName": "Umme Ayman",
      "userId": "08825339167486042009"
     }
    },
    "pycharm": {
     "name": "#%%\n"
    }
   },
   "execution_count": 7,
   "outputs": []
  },
  {
   "cell_type": "code",
   "source": [
    "# mb = MultiLabelBinarizer()\n",
    "# mb.fit(data['Class'])\n",
    "\n",
    "# y = mb.transform(data['Class'])\n",
    "\n",
    "y = data['informative']\n",
    "\n",
    "# Basic validation: splitting the data 80-20 train/test\n",
    "from sklearn.model_selection import train_test_split\n",
    "X_train, X_test, y_train, y_test = train_test_split(data['soup'], y, test_size=0.2, random_state=55)\n",
    "\n",
    "# Tf-Idf transformation\n",
    "xtrain_tfidf = tfidf_vec.fit_transform(X_train)\n",
    "xtest_tfidf = tfidf_vec.transform(X_test)\n",
    "xtrain_tfidf.shape"
   ],
   "metadata": {
    "id": "1BaRyaok-YqG",
    "executionInfo": {
     "status": "ok",
     "timestamp": 1648680792482,
     "user_tz": 480,
     "elapsed": 4,
     "user": {
      "displayName": "Umme Ayman",
      "userId": "08825339167486042009"
     }
    },
    "pycharm": {
     "name": "#%%\n"
    }
   },
   "execution_count": 8,
   "outputs": [
    {
     "data": {
      "text/plain": "(2280, 10000)"
     },
     "execution_count": 8,
     "metadata": {},
     "output_type": "execute_result"
    }
   ]
  },
  {
   "cell_type": "markdown",
   "source": [
    "# EMNB Classifier"
   ],
   "metadata": {
    "id": "d0GoBQRU3_EV",
    "pycharm": {
     "name": "#%% md\n"
    }
   }
  },
  {
   "cell_type": "code",
   "source": [
    "from sklearn.naive_bayes import MultinomialNB\n",
    "from sklearn.multiclass import OneVsRestClassifier\n",
    "\n",
    "multinomial_clf = MultinomialNB(alpha=0.1)\n",
    "oneVsRest_rf = OneVsRestClassifier(multinomial_clf)\n",
    "\n",
    "oneVsRest_rf.fit(xtrain_tfidf, y_train)"
   ],
   "metadata": {
    "colab": {
     "base_uri": "https://localhost:8080/"
    },
    "id": "bjZfJMK7_G4Y",
    "outputId": "7354e380-1b4f-43f4-c7cf-570d4cdf9558",
    "executionInfo": {
     "status": "ok",
     "timestamp": 1648680803402,
     "user_tz": 480,
     "elapsed": 332,
     "user": {
      "displayName": "Umme Ayman",
      "userId": "08825339167486042009"
     }
    },
    "pycharm": {
     "name": "#%%\n"
    }
   },
   "execution_count": 9,
   "outputs": [
    {
     "data": {
      "text/plain": "OneVsRestClassifier(estimator=MultinomialNB(alpha=0.1))",
      "text/html": "<style>#sk-container-id-1 {color: black;background-color: white;}#sk-container-id-1 pre{padding: 0;}#sk-container-id-1 div.sk-toggleable {background-color: white;}#sk-container-id-1 label.sk-toggleable__label {cursor: pointer;display: block;width: 100%;margin-bottom: 0;padding: 0.3em;box-sizing: border-box;text-align: center;}#sk-container-id-1 label.sk-toggleable__label-arrow:before {content: \"▸\";float: left;margin-right: 0.25em;color: #696969;}#sk-container-id-1 label.sk-toggleable__label-arrow:hover:before {color: black;}#sk-container-id-1 div.sk-estimator:hover label.sk-toggleable__label-arrow:before {color: black;}#sk-container-id-1 div.sk-toggleable__content {max-height: 0;max-width: 0;overflow: hidden;text-align: left;background-color: #f0f8ff;}#sk-container-id-1 div.sk-toggleable__content pre {margin: 0.2em;color: black;border-radius: 0.25em;background-color: #f0f8ff;}#sk-container-id-1 input.sk-toggleable__control:checked~div.sk-toggleable__content {max-height: 200px;max-width: 100%;overflow: auto;}#sk-container-id-1 input.sk-toggleable__control:checked~label.sk-toggleable__label-arrow:before {content: \"▾\";}#sk-container-id-1 div.sk-estimator input.sk-toggleable__control:checked~label.sk-toggleable__label {background-color: #d4ebff;}#sk-container-id-1 div.sk-label input.sk-toggleable__control:checked~label.sk-toggleable__label {background-color: #d4ebff;}#sk-container-id-1 input.sk-hidden--visually {border: 0;clip: rect(1px 1px 1px 1px);clip: rect(1px, 1px, 1px, 1px);height: 1px;margin: -1px;overflow: hidden;padding: 0;position: absolute;width: 1px;}#sk-container-id-1 div.sk-estimator {font-family: monospace;background-color: #f0f8ff;border: 1px dotted black;border-radius: 0.25em;box-sizing: border-box;margin-bottom: 0.5em;}#sk-container-id-1 div.sk-estimator:hover {background-color: #d4ebff;}#sk-container-id-1 div.sk-parallel-item::after {content: \"\";width: 100%;border-bottom: 1px solid gray;flex-grow: 1;}#sk-container-id-1 div.sk-label:hover label.sk-toggleable__label {background-color: #d4ebff;}#sk-container-id-1 div.sk-serial::before {content: \"\";position: absolute;border-left: 1px solid gray;box-sizing: border-box;top: 0;bottom: 0;left: 50%;z-index: 0;}#sk-container-id-1 div.sk-serial {display: flex;flex-direction: column;align-items: center;background-color: white;padding-right: 0.2em;padding-left: 0.2em;position: relative;}#sk-container-id-1 div.sk-item {position: relative;z-index: 1;}#sk-container-id-1 div.sk-parallel {display: flex;align-items: stretch;justify-content: center;background-color: white;position: relative;}#sk-container-id-1 div.sk-item::before, #sk-container-id-1 div.sk-parallel-item::before {content: \"\";position: absolute;border-left: 1px solid gray;box-sizing: border-box;top: 0;bottom: 0;left: 50%;z-index: -1;}#sk-container-id-1 div.sk-parallel-item {display: flex;flex-direction: column;z-index: 1;position: relative;background-color: white;}#sk-container-id-1 div.sk-parallel-item:first-child::after {align-self: flex-end;width: 50%;}#sk-container-id-1 div.sk-parallel-item:last-child::after {align-self: flex-start;width: 50%;}#sk-container-id-1 div.sk-parallel-item:only-child::after {width: 0;}#sk-container-id-1 div.sk-dashed-wrapped {border: 1px dashed gray;margin: 0 0.4em 0.5em 0.4em;box-sizing: border-box;padding-bottom: 0.4em;background-color: white;}#sk-container-id-1 div.sk-label label {font-family: monospace;font-weight: bold;display: inline-block;line-height: 1.2em;}#sk-container-id-1 div.sk-label-container {text-align: center;}#sk-container-id-1 div.sk-container {/* jupyter's `normalize.less` sets `[hidden] { display: none; }` but bootstrap.min.css set `[hidden] { display: none !important; }` so we also need the `!important` here to be able to override the default hidden behavior on the sphinx rendered scikit-learn.org. See: https://github.com/scikit-learn/scikit-learn/issues/21755 */display: inline-block !important;position: relative;}#sk-container-id-1 div.sk-text-repr-fallback {display: none;}</style><div id=\"sk-container-id-1\" class=\"sk-top-container\"><div class=\"sk-text-repr-fallback\"><pre>OneVsRestClassifier(estimator=MultinomialNB(alpha=0.1))</pre><b>In a Jupyter environment, please rerun this cell to show the HTML representation or trust the notebook. <br />On GitHub, the HTML representation is unable to render, please try loading this page with nbviewer.org.</b></div><div class=\"sk-container\" hidden><div class=\"sk-item sk-dashed-wrapped\"><div class=\"sk-label-container\"><div class=\"sk-label sk-toggleable\"><input class=\"sk-toggleable__control sk-hidden--visually\" id=\"sk-estimator-id-1\" type=\"checkbox\" ><label for=\"sk-estimator-id-1\" class=\"sk-toggleable__label sk-toggleable__label-arrow\">OneVsRestClassifier</label><div class=\"sk-toggleable__content\"><pre>OneVsRestClassifier(estimator=MultinomialNB(alpha=0.1))</pre></div></div></div><div class=\"sk-parallel\"><div class=\"sk-parallel-item\"><div class=\"sk-item\"><div class=\"sk-label-container\"><div class=\"sk-label sk-toggleable\"><input class=\"sk-toggleable__control sk-hidden--visually\" id=\"sk-estimator-id-2\" type=\"checkbox\" ><label for=\"sk-estimator-id-2\" class=\"sk-toggleable__label sk-toggleable__label-arrow\">estimator: MultinomialNB</label><div class=\"sk-toggleable__content\"><pre>MultinomialNB(alpha=0.1)</pre></div></div></div><div class=\"sk-serial\"><div class=\"sk-item\"><div class=\"sk-estimator sk-toggleable\"><input class=\"sk-toggleable__control sk-hidden--visually\" id=\"sk-estimator-id-3\" type=\"checkbox\" ><label for=\"sk-estimator-id-3\" class=\"sk-toggleable__label sk-toggleable__label-arrow\">MultinomialNB</label><div class=\"sk-toggleable__content\"><pre>MultinomialNB(alpha=0.1)</pre></div></div></div></div></div></div></div></div></div></div>"
     },
     "execution_count": 9,
     "metadata": {},
     "output_type": "execute_result"
    }
   ]
  },
  {
   "cell_type": "code",
   "source": [
    "from sklearn.metrics import precision_recall_fscore_support\n",
    "\n",
    "y_pred1 = oneVsRest_rf.predict(xtest_tfidf)\n",
    "\n",
    "# Performance metrics\n",
    "precision, recall, f1score, support = precision_recall_fscore_support(y_test, y_pred1, average='binary')\n",
    "print(f'Precision: {precision*100:.1f}%')\n",
    "print(f'Recall   : {recall*100:.1f}%')\n",
    "print(f'F1-score : {f1score*100:.1f}%')\n",
    "# print(f'Precision : {\", \".join(f\"{p*100:.1f}%\" for p in precision)}')\n",
    "# print(f'Recall    : {\", \".join(f\"{p*100:.1f}%\" for p in recall)}')\n",
    "# print(f'F1-score  : {\", \".join(f\"{p*100:.1f}%\" for p in f1score)}')"
   ],
   "metadata": {
    "colab": {
     "base_uri": "https://localhost:8080/"
    },
    "id": "ng7pxGh_Bg1S",
    "outputId": "e0c24bb6-cbcf-42b2-e9b1-dc1c9403fa9e",
    "executionInfo": {
     "status": "ok",
     "timestamp": 1648680835622,
     "user_tz": 480,
     "elapsed": 210,
     "user": {
      "displayName": "Umme Ayman",
      "userId": "08825339167486042009"
     }
    },
    "pycharm": {
     "name": "#%%\n"
    }
   },
   "execution_count": 10,
   "outputs": [
    {
     "name": "stdout",
     "output_type": "stream",
     "text": [
      "Precision: 81.6%\n",
      "Recall   : 81.4%\n",
      "F1-score : 81.5%\n"
     ]
    }
   ]
  },
  {
   "cell_type": "code",
   "source": [
    "def infer_tags(texts: list[str]) -> list[bool]:\n",
    "    \"\"\"\n",
    "    Infer informative/noninformative\n",
    "\n",
    "    :param texts: List of texts\n",
    "    :return: is informative (Informative: true, noninformative: false)\n",
    "    \"\"\"\n",
    "    texts = [clean_text(t) for t in texts]\n",
    "    texts_vec = tfidf_vec.transform(texts)\n",
    "    pred = oneVsRest_rf.predict(texts_vec)\n",
    "\n",
    "    return list(pred)\n",
    "    # return [v[0] == 'Informative' for v in mb.inverse_transform(pred)]\n",
    "\n",
    "\n",
    "infer_tags(['This is nice', 'This app doesn\\'t work', 'This app is good', 'The notepad feature crashes'])"
   ],
   "metadata": {
    "id": "xpzSfvMOB3dP",
    "executionInfo": {
     "status": "ok",
     "timestamp": 1648680858973,
     "user_tz": 480,
     "elapsed": 183,
     "user": {
      "displayName": "Umme Ayman",
      "userId": "08825339167486042009"
     }
    },
    "pycharm": {
     "name": "#%%\n"
    }
   },
   "execution_count": 11,
   "outputs": [
    {
     "data": {
      "text/plain": "[False, False, False, True]"
     },
     "execution_count": 11,
     "metadata": {},
     "output_type": "execute_result"
    }
   ]
  },
  {
   "cell_type": "markdown",
   "source": [
    "# Predict informative/noninformative for new data"
   ],
   "metadata": {
    "collapsed": false,
    "pycharm": {
     "name": "#%% md\n"
    }
   }
  },
  {
   "cell_type": "code",
   "source": [
    "import random\n",
    "from hypy_utils.tqdm_utils import pmap, smap\n",
    "from typing import NamedTuple\n",
    "from pathlib import Path\n",
    "import langid\n",
    "from langdetect import detect\n",
    "\n",
    "\n",
    "DIR_REVIEWS = Path('reviews')\n",
    "DIR_APP_REVIEWS = lambda pkg: DIR_REVIEWS / 'play_store' / f'{pkg}.json'\n",
    "\n",
    "\n",
    "def predict_app(app: str):\n",
    "    out = Path(f'reviews/play_store_pred/{app}.json')\n",
    "    if out.is_file():\n",
    "        return json.loads(out.read_text())\n",
    "\n",
    "    # Filter english reviews only\n",
    "    reviews = [r for r in json.loads(DIR_APP_REVIEWS(app).read_text()) if r['text'] is not None]\n",
    "    tags = infer_tags([r['text'] for r in reviews])\n",
    "    for r, t in zip(reviews, tags):\n",
    "        r['pred_language'] = langid.classify(r['text'])[0]\n",
    "        # r['pred_language'] = detect(r['text'])\n",
    "        r['pred_informative'] = bool(t)\n",
    "\n",
    "    # print(reviews)\n",
    "\n",
    "    out.parent.mkdir(exist_ok=True, parents=True)\n",
    "    out.write_text(json.dumps(reviews))\n",
    "    return reviews\n",
    "\n",
    "\n",
    "apps: dict[str, str] = json.loads(Path('other_data/app_sets/selected_apps.json').read_text())\n",
    "all_reviews = smap(predict_app, list(apps.keys()), desc='Predicting informativeness', unit='apps')\n",
    "all_reviews = random.sample([i for lst in all_reviews for i in lst], 1500)"
   ],
   "metadata": {
    "id": "KpLfXtDFC6QC",
    "executionInfo": {
     "status": "ok",
     "timestamp": 1648680945881,
     "user_tz": 480,
     "elapsed": 194,
     "user": {
      "displayName": "Umme Ayman",
      "userId": "08825339167486042009"
     }
    },
    "pycharm": {
     "name": "#%%\n"
    }
   },
   "execution_count": 12,
   "outputs": [
    {
     "name": "stderr",
     "output_type": "stream",
     "text": [
      "100%|██████████| 637/637 [00:31<00:00, 19.97it/s] \n"
     ]
    }
   ]
  },
  {
   "cell_type": "code",
   "execution_count": 14,
   "outputs": [
    {
     "data": {
      "text/plain": "                                     id  \\\n0  224aabb6-1a20-4ad2-b6f3-fe8fdb902f08   \n1  dae29bd9-18df-4243-ae0f-3e6be40a9ea0   \n2  8b5d6a89-fd59-43a2-86ed-d9cf6ae0c3cb   \n3  648ee8db-5d41-465b-9e93-28fb4da07093   \n4  929e329d-dbf6-45ba-9786-6c553dd4a5b2   \n\n                                                text  pred_informative  \n0              Amazing game with a amazing community             False  \n1                 Great app. Helps me stay organized             False  \n2                                 Better than Google              True  \n3                                               Good             False  \n4  When screen is off In S6E the phisycal back an...              True  ",
      "text/html": "<div>\n<style scoped>\n    .dataframe tbody tr th:only-of-type {\n        vertical-align: middle;\n    }\n\n    .dataframe tbody tr th {\n        vertical-align: top;\n    }\n\n    .dataframe thead th {\n        text-align: right;\n    }\n</style>\n<table border=\"1\" class=\"dataframe\">\n  <thead>\n    <tr style=\"text-align: right;\">\n      <th></th>\n      <th>id</th>\n      <th>text</th>\n      <th>pred_informative</th>\n    </tr>\n  </thead>\n  <tbody>\n    <tr>\n      <th>0</th>\n      <td>224aabb6-1a20-4ad2-b6f3-fe8fdb902f08</td>\n      <td>Amazing game with a amazing community</td>\n      <td>False</td>\n    </tr>\n    <tr>\n      <th>1</th>\n      <td>dae29bd9-18df-4243-ae0f-3e6be40a9ea0</td>\n      <td>Great app. Helps me stay organized</td>\n      <td>False</td>\n    </tr>\n    <tr>\n      <th>2</th>\n      <td>8b5d6a89-fd59-43a2-86ed-d9cf6ae0c3cb</td>\n      <td>Better than Google</td>\n      <td>True</td>\n    </tr>\n    <tr>\n      <th>3</th>\n      <td>648ee8db-5d41-465b-9e93-28fb4da07093</td>\n      <td>Good</td>\n      <td>False</td>\n    </tr>\n    <tr>\n      <th>4</th>\n      <td>929e329d-dbf6-45ba-9786-6c553dd4a5b2</td>\n      <td>When screen is off In S6E the phisycal back an...</td>\n      <td>True</td>\n    </tr>\n  </tbody>\n</table>\n</div>"
     },
     "execution_count": 14,
     "metadata": {},
     "output_type": "execute_result"
    }
   ],
   "source": [
    "cols = ['id', 'text', 'pred_informative']\n",
    "all_reviews_df = pd.DataFrame([[r[k] for k in cols] for r in all_reviews], columns=cols)\n",
    "all_reviews_df.head()\n"
   ],
   "metadata": {
    "collapsed": false,
    "pycharm": {
     "name": "#%%\n"
    }
   }
  }
 ]
}